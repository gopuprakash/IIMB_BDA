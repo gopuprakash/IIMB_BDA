{
 "cells": [
  {
   "cell_type": "markdown",
   "metadata": {},
   "source": [
    "### Name: Gopu Prakash"
   ]
  },
  {
   "cell_type": "code",
   "execution_count": 364,
   "metadata": {},
   "outputs": [],
   "source": [
    "import pandas as pd\n",
    "import scipy as spy\n",
    "import matplotlib as mp\n",
    "import seaborn as sn\n",
    "import matplotlib.pyplot as plt\n",
    "import numpy as np\n"
   ]
  },
  {
   "cell_type": "code",
   "execution_count": 365,
   "metadata": {},
   "outputs": [],
   "source": [
    "# Reading the prices of the 4 stocks\n",
    "infy_df = pd.read_csv( \"INFY.csv\" )\n",
    "glaxo_df = pd.read_csv( \"GLAXO.csv\" )\n",
    "beml_df = pd.read_csv( \"BEML.csv\" )\n",
    "unitech_df = pd.read_csv( \"UNITECH.csv\" )"
   ]
  },
  {
   "cell_type": "code",
   "execution_count": 366,
   "metadata": {},
   "outputs": [
    {
     "data": {
      "text/html": [
       "<div>\n",
       "<style scoped>\n",
       "    .dataframe tbody tr th:only-of-type {\n",
       "        vertical-align: middle;\n",
       "    }\n",
       "\n",
       "    .dataframe tbody tr th {\n",
       "        vertical-align: top;\n",
       "    }\n",
       "\n",
       "    .dataframe thead th {\n",
       "        text-align: right;\n",
       "    }\n",
       "</style>\n",
       "<table border=\"1\" class=\"dataframe\">\n",
       "  <thead>\n",
       "    <tr style=\"text-align: right;\">\n",
       "      <th></th>\n",
       "      <th>Date</th>\n",
       "      <th>Open Price</th>\n",
       "      <th>High Price</th>\n",
       "      <th>Low Price</th>\n",
       "      <th>Close Price</th>\n",
       "      <th>WAP</th>\n",
       "      <th>No.of Shares</th>\n",
       "      <th>No. of Trades</th>\n",
       "      <th>Total Turnover (Rs.)</th>\n",
       "      <th>Deliverable Quantity</th>\n",
       "      <th>% Deli. Qty to Traded Qty</th>\n",
       "      <th>Spread High-Low</th>\n",
       "      <th>Spread Close-Open</th>\n",
       "    </tr>\n",
       "  </thead>\n",
       "  <tbody>\n",
       "    <tr>\n",
       "      <th>0</th>\n",
       "      <td>28-March-2018</td>\n",
       "      <td>5.64</td>\n",
       "      <td>5.64</td>\n",
       "      <td>5.51</td>\n",
       "      <td>5.56</td>\n",
       "      <td>5.555711</td>\n",
       "      <td>4055278</td>\n",
       "      <td>3775</td>\n",
       "      <td>22529954.0</td>\n",
       "      <td>1393690.0</td>\n",
       "      <td>34.37</td>\n",
       "      <td>0.13</td>\n",
       "      <td>-0.08</td>\n",
       "    </tr>\n",
       "    <tr>\n",
       "      <th>1</th>\n",
       "      <td>27-March-2018</td>\n",
       "      <td>5.70</td>\n",
       "      <td>5.88</td>\n",
       "      <td>5.60</td>\n",
       "      <td>5.73</td>\n",
       "      <td>5.740920</td>\n",
       "      <td>3666700</td>\n",
       "      <td>1648</td>\n",
       "      <td>21050231.0</td>\n",
       "      <td>1368415.0</td>\n",
       "      <td>37.32</td>\n",
       "      <td>0.28</td>\n",
       "      <td>0.03</td>\n",
       "    </tr>\n",
       "    <tr>\n",
       "      <th>2</th>\n",
       "      <td>26-March-2018</td>\n",
       "      <td>5.70</td>\n",
       "      <td>5.79</td>\n",
       "      <td>5.56</td>\n",
       "      <td>5.62</td>\n",
       "      <td>5.649517</td>\n",
       "      <td>6371563</td>\n",
       "      <td>2007</td>\n",
       "      <td>35996256.0</td>\n",
       "      <td>2802016.0</td>\n",
       "      <td>43.98</td>\n",
       "      <td>0.23</td>\n",
       "      <td>-0.08</td>\n",
       "    </tr>\n",
       "    <tr>\n",
       "      <th>3</th>\n",
       "      <td>23-March-2018</td>\n",
       "      <td>5.80</td>\n",
       "      <td>5.84</td>\n",
       "      <td>5.63</td>\n",
       "      <td>5.70</td>\n",
       "      <td>5.741564</td>\n",
       "      <td>5872510</td>\n",
       "      <td>2905</td>\n",
       "      <td>33717391.0</td>\n",
       "      <td>3511790.0</td>\n",
       "      <td>59.80</td>\n",
       "      <td>0.21</td>\n",
       "      <td>-0.10</td>\n",
       "    </tr>\n",
       "    <tr>\n",
       "      <th>4</th>\n",
       "      <td>22-March-2018</td>\n",
       "      <td>6.03</td>\n",
       "      <td>6.08</td>\n",
       "      <td>5.91</td>\n",
       "      <td>5.96</td>\n",
       "      <td>5.996644</td>\n",
       "      <td>4144882</td>\n",
       "      <td>1686</td>\n",
       "      <td>24855381.0</td>\n",
       "      <td>1808947.0</td>\n",
       "      <td>43.64</td>\n",
       "      <td>0.17</td>\n",
       "      <td>-0.07</td>\n",
       "    </tr>\n",
       "  </tbody>\n",
       "</table>\n",
       "</div>"
      ],
      "text/plain": [
       "            Date  Open Price  High Price  Low Price  Close Price       WAP  \\\n",
       "0  28-March-2018        5.64        5.64       5.51         5.56  5.555711   \n",
       "1  27-March-2018        5.70        5.88       5.60         5.73  5.740920   \n",
       "2  26-March-2018        5.70        5.79       5.56         5.62  5.649517   \n",
       "3  23-March-2018        5.80        5.84       5.63         5.70  5.741564   \n",
       "4  22-March-2018        6.03        6.08       5.91         5.96  5.996644   \n",
       "\n",
       "   No.of Shares  No. of Trades  Total Turnover (Rs.)  Deliverable Quantity  \\\n",
       "0       4055278           3775            22529954.0             1393690.0   \n",
       "1       3666700           1648            21050231.0             1368415.0   \n",
       "2       6371563           2007            35996256.0             2802016.0   \n",
       "3       5872510           2905            33717391.0             3511790.0   \n",
       "4       4144882           1686            24855381.0             1808947.0   \n",
       "\n",
       "   % Deli. Qty to Traded Qty  Spread High-Low  Spread Close-Open  \n",
       "0                      34.37             0.13              -0.08  \n",
       "1                      37.32             0.28               0.03  \n",
       "2                      43.98             0.23              -0.08  \n",
       "3                      59.80             0.21              -0.10  \n",
       "4                      43.64             0.17              -0.07  "
      ]
     },
     "execution_count": 366,
     "metadata": {},
     "output_type": "execute_result"
    }
   ],
   "source": [
    "# Checking head for data verification\n",
    "unitech_df.head(5)"
   ]
  },
  {
   "cell_type": "code",
   "execution_count": 367,
   "metadata": {},
   "outputs": [
    {
     "data": {
      "text/plain": [
       "Date                          object\n",
       "Open Price                   float64\n",
       "High Price                   float64\n",
       "Low Price                    float64\n",
       "Close Price                  float64\n",
       "WAP                          float64\n",
       "No.of Shares                   int64\n",
       "No. of Trades                  int64\n",
       "Total Turnover (Rs.)         float64\n",
       "Deliverable Quantity         float64\n",
       "% Deli. Qty to Traded Qty    float64\n",
       "Spread High-Low              float64\n",
       "Spread Close-Open            float64\n",
       "dtype: object"
      ]
     },
     "execution_count": 367,
     "metadata": {},
     "output_type": "execute_result"
    }
   ],
   "source": [
    "# Checking datatypes\n",
    "unitech_df.dtypes"
   ]
  },
  {
   "cell_type": "code",
   "execution_count": 368,
   "metadata": {},
   "outputs": [
    {
     "data": {
      "text/html": [
       "<div>\n",
       "<style scoped>\n",
       "    .dataframe tbody tr th:only-of-type {\n",
       "        vertical-align: middle;\n",
       "    }\n",
       "\n",
       "    .dataframe tbody tr th {\n",
       "        vertical-align: top;\n",
       "    }\n",
       "\n",
       "    .dataframe thead th {\n",
       "        text-align: right;\n",
       "    }\n",
       "</style>\n",
       "<table border=\"1\" class=\"dataframe\">\n",
       "  <thead>\n",
       "    <tr style=\"text-align: right;\">\n",
       "      <th></th>\n",
       "      <th>Date</th>\n",
       "      <th>Open Price</th>\n",
       "      <th>High Price</th>\n",
       "      <th>Low Price</th>\n",
       "      <th>Close Price</th>\n",
       "      <th>WAP</th>\n",
       "      <th>No.of Shares</th>\n",
       "      <th>No. of Trades</th>\n",
       "      <th>Total Turnover (Rs.)</th>\n",
       "      <th>Deliverable Quantity</th>\n",
       "      <th>% Deli. Qty to Traded Qty</th>\n",
       "      <th>Spread High-Low</th>\n",
       "      <th>Spread Close-Open</th>\n",
       "    </tr>\n",
       "  </thead>\n",
       "  <tbody>\n",
       "    <tr>\n",
       "      <th>979</th>\n",
       "      <td>7-April-2014</td>\n",
       "      <td>15.75</td>\n",
       "      <td>16.80</td>\n",
       "      <td>13.90</td>\n",
       "      <td>15.35</td>\n",
       "      <td>15.242483</td>\n",
       "      <td>4984380</td>\n",
       "      <td>9973</td>\n",
       "      <td>75974325.0</td>\n",
       "      <td>1380176.0</td>\n",
       "      <td>13.85</td>\n",
       "      <td>2.90</td>\n",
       "      <td>-0.40</td>\n",
       "    </tr>\n",
       "    <tr>\n",
       "      <th>980</th>\n",
       "      <td>4-April-2014</td>\n",
       "      <td>14.60</td>\n",
       "      <td>15.56</td>\n",
       "      <td>14.31</td>\n",
       "      <td>15.36</td>\n",
       "      <td>15.090318</td>\n",
       "      <td>10709695</td>\n",
       "      <td>13765</td>\n",
       "      <td>161612706.0</td>\n",
       "      <td>2039699.0</td>\n",
       "      <td>19.05</td>\n",
       "      <td>1.25</td>\n",
       "      <td>0.76</td>\n",
       "    </tr>\n",
       "    <tr>\n",
       "      <th>981</th>\n",
       "      <td>3-April-2014</td>\n",
       "      <td>14.50</td>\n",
       "      <td>15.26</td>\n",
       "      <td>13.99</td>\n",
       "      <td>14.56</td>\n",
       "      <td>14.642228</td>\n",
       "      <td>11315583</td>\n",
       "      <td>15035</td>\n",
       "      <td>165685346.0</td>\n",
       "      <td>2182421.0</td>\n",
       "      <td>19.29</td>\n",
       "      <td>1.27</td>\n",
       "      <td>0.06</td>\n",
       "    </tr>\n",
       "    <tr>\n",
       "      <th>982</th>\n",
       "      <td>2-April-2014</td>\n",
       "      <td>13.70</td>\n",
       "      <td>14.45</td>\n",
       "      <td>13.53</td>\n",
       "      <td>14.33</td>\n",
       "      <td>13.995445</td>\n",
       "      <td>6933843</td>\n",
       "      <td>9711</td>\n",
       "      <td>97042215.0</td>\n",
       "      <td>1251837.0</td>\n",
       "      <td>18.05</td>\n",
       "      <td>0.92</td>\n",
       "      <td>0.63</td>\n",
       "    </tr>\n",
       "    <tr>\n",
       "      <th>983</th>\n",
       "      <td>1-April-2014</td>\n",
       "      <td>14.17</td>\n",
       "      <td>14.25</td>\n",
       "      <td>13.27</td>\n",
       "      <td>13.53</td>\n",
       "      <td>13.629905</td>\n",
       "      <td>8088892</td>\n",
       "      <td>12135</td>\n",
       "      <td>110250831.0</td>\n",
       "      <td>1609607.0</td>\n",
       "      <td>19.90</td>\n",
       "      <td>0.98</td>\n",
       "      <td>-0.64</td>\n",
       "    </tr>\n",
       "  </tbody>\n",
       "</table>\n",
       "</div>"
      ],
      "text/plain": [
       "             Date  Open Price  High Price  Low Price  Close Price        WAP  \\\n",
       "979  7-April-2014       15.75       16.80      13.90        15.35  15.242483   \n",
       "980  4-April-2014       14.60       15.56      14.31        15.36  15.090318   \n",
       "981  3-April-2014       14.50       15.26      13.99        14.56  14.642228   \n",
       "982  2-April-2014       13.70       14.45      13.53        14.33  13.995445   \n",
       "983  1-April-2014       14.17       14.25      13.27        13.53  13.629905   \n",
       "\n",
       "     No.of Shares  No. of Trades  Total Turnover (Rs.)  Deliverable Quantity  \\\n",
       "979       4984380           9973            75974325.0             1380176.0   \n",
       "980      10709695          13765           161612706.0             2039699.0   \n",
       "981      11315583          15035           165685346.0             2182421.0   \n",
       "982       6933843           9711            97042215.0             1251837.0   \n",
       "983       8088892          12135           110250831.0             1609607.0   \n",
       "\n",
       "     % Deli. Qty to Traded Qty  Spread High-Low  Spread Close-Open  \n",
       "979                      13.85             2.90              -0.40  \n",
       "980                      19.05             1.25               0.76  \n",
       "981                      19.29             1.27               0.06  \n",
       "982                      18.05             0.92               0.63  \n",
       "983                      19.90             0.98              -0.64  "
      ]
     },
     "execution_count": 368,
     "metadata": {},
     "output_type": "execute_result"
    }
   ],
   "source": [
    "# Checking tail for data verification\n",
    "unitech_df.tail(5)"
   ]
  },
  {
   "cell_type": "code",
   "execution_count": 369,
   "metadata": {},
   "outputs": [],
   "source": [
    "# Checking for null\n",
    "#infy_df.isnull().any()\n",
    "#beml_df.isnull().any()\n",
    "#glaxo_df.isnull().any()\n",
    "#unitech_df.isnull().any()"
   ]
  },
  {
   "cell_type": "code",
   "execution_count": 370,
   "metadata": {},
   "outputs": [],
   "source": [
    "# Setting Index\n",
    "infy_df.set_index(pd.DatetimeIndex(infy_df['Date']), inplace=True)\n",
    "glaxo_df.set_index(pd.DatetimeIndex(glaxo_df['Date']), inplace=True)\n",
    "beml_df.set_index(pd.DatetimeIndex(beml_df['Date']), inplace=True)\n",
    "unitech_df.set_index(pd.DatetimeIndex(unitech_df['Date']), inplace=True)"
   ]
  },
  {
   "cell_type": "code",
   "execution_count": 371,
   "metadata": {},
   "outputs": [],
   "source": [
    "# Renaming Cells for convinience: Open Price > Open, High Price > High, Low Price > Low, Close Price > Close\n",
    "\n",
    "infy_df.rename(\n",
    "    columns={\n",
    "        \"Open Price\": \"Open\",\n",
    "        \"High Price\": \"High\",\n",
    "        \"Low Price\": \"Low\",\n",
    "        \"Close Price\": \"Close\",\n",
    "        \"No.of Shares\": \"No.of.Shares\",\n",
    "        \"No. of Trades\": \"No.of.Trades\",\n",
    "        \"Total Turnover (Rs.)\": \"Total.Turnover\",\n",
    "        \"Deliverable Quantity\": \"Deliverable.Quantity\",\n",
    "        \"% Deli. Qty to Traded Qty\": \"PercDeli.Qty.to.Traded.Qty\",\n",
    "        \"Spread High-Low\": \"Spread.High-Low \",\n",
    "        \"Spread Close-Open\": \"Spread.Close-Open\"\n",
    "    },\n",
    "    inplace=True\n",
    ")\n",
    "\n",
    "glaxo_df.rename(\n",
    "    columns={\n",
    "        \"Open Price\": \"Open\",\n",
    "        \"High Price\": \"High\",\n",
    "        \"Low Price\": \"Low\",\n",
    "        \"Close Price\": \"Close\",\n",
    "        \"No.of Shares\": \"No.of.Shares\",\n",
    "        \"No. of Trades\": \"No.of.Trades\",\n",
    "        \"Total Turnover (Rs.)\": \"Total.Turnover\",\n",
    "        \"Deliverable Quantity\": \"Deliverable.Quantity\",\n",
    "        \"% Deli. Qty to Traded Qty\": \"PercDeli.Qty.to.Traded.Qty\",\n",
    "        \"Spread High-Low\": \"Spread.High-Low \",\n",
    "        \"Spread Close-Open\": \"Spread.Close-Open\"\n",
    "    },\n",
    "    inplace=True\n",
    ")\n",
    "\n",
    "beml_df.rename(\n",
    "    columns={\n",
    "        \"Open Price\": \"Open\",\n",
    "        \"High Price\": \"High\",\n",
    "        \"Low Price\": \"Low\",\n",
    "        \"Close Price\": \"Close\",\n",
    "        \"No.of Shares\": \"No.of.Shares\",\n",
    "        \"No. of Trades\": \"No.of.Trades\",\n",
    "        \"Total Turnover (Rs.)\": \"Total.Turnover\",\n",
    "        \"Deliverable Quantity\": \"Deliverable.Quantity\",\n",
    "        \"% Deli. Qty to Traded Qty\": \"PercDeli.Qty.to.Traded.Qty\",\n",
    "        \"Spread High-Low\": \"Spread.High-Low \",\n",
    "        \"Spread Close-Open\": \"Spread.Close-Open\"\n",
    "    },\n",
    "    inplace=True\n",
    ")\n",
    "\n",
    "unitech_df.rename(\n",
    "    columns={\n",
    "        \"Open Price\": \"Open\",\n",
    "        \"High Price\": \"High\",\n",
    "        \"Low Price\": \"Low\",\n",
    "        \"Close Price\": \"Close\",\n",
    "        \"No.of Shares\": \"No.of.Shares\",\n",
    "        \"No. of Trades\": \"No.of.Trades\",\n",
    "        \"Total Turnover (Rs.)\": \"Total.Turnover\",\n",
    "        \"Deliverable Quantity\": \"Deliverable.Quantity\",\n",
    "        \"% Deli. Qty to Traded Qty\": \"PercDeli.Qty.to.Traded.Qty\",\n",
    "        \"Spread High-Low\": \"Spread.High-Low \",\n",
    "        \"Spread Close-Open\": \"Spread.Close-Open\"\n",
    "    },\n",
    "    inplace=True\n",
    ")\n",
    "\n",
    "\n"
   ]
  },
  {
   "cell_type": "markdown",
   "metadata": {},
   "source": [
    "## Question 1"
   ]
  },
  {
   "cell_type": "markdown",
   "metadata": {},
   "source": [
    "### a) Calculate the daily gain for the stocks."
   ]
  },
  {
   "cell_type": "code",
   "execution_count": 372,
   "metadata": {},
   "outputs": [],
   "source": [
    "# Calculating Gain. Using Close and Open for more accurate gain calculation \n",
    "# instead of (today’s close price - Yesterday’s close price)/ Yesterday’s close price\n",
    "infy_df['gain'] = (infy_df.Close - infy_df.Open)/infy_df.Open\n",
    "glaxo_df['gain'] = (glaxo_df.Close - glaxo_df.Open)/glaxo_df.Open\n",
    "beml_df['gain'] = (beml_df.Close - beml_df.Open)/beml_df.Open\n",
    "unitech_df['gain'] = (unitech_df.Close - unitech_df.Open)/unitech_df.Open\n",
    "\n",
    "# Percentage Daily Return\n",
    "\n",
    "infy_df['gain_perc'] = infy_df.gain*100\n",
    "glaxo_df['gain_perc'] = glaxo_df.gain*100\n",
    "beml_df['gain_perc'] = beml_df.gain*100\n",
    "unitech_df['gain_perc'] = unitech_df.gain*100\n"
   ]
  },
  {
   "cell_type": "markdown",
   "metadata": {},
   "source": [
    "### b) Calculate the mean and variance of the percentage daily returns?"
   ]
  },
  {
   "cell_type": "code",
   "execution_count": 373,
   "metadata": {},
   "outputs": [],
   "source": [
    "from scipy import stats"
   ]
  },
  {
   "cell_type": "code",
   "execution_count": 374,
   "metadata": {},
   "outputs": [],
   "source": [
    "meanDailyReturns = dict( { 'Infy': infy_df.gain_perc.mean(), 'Glaxo': glaxo_df.gain_perc.mean(),\n",
    "                          'BEML': beml_df.gain_perc.mean(), 'Unitech': unitech_df.gain_perc.mean()  } )"
   ]
  },
  {
   "cell_type": "code",
   "execution_count": 375,
   "metadata": {},
   "outputs": [
    {
     "data": {
      "text/plain": [
       "{'Infy': -0.08141764169718628,\n",
       " 'Glaxo': -0.1733636894954975,\n",
       " 'BEML': -0.0963908936972056,\n",
       " 'Unitech': -0.3736205338072571}"
      ]
     },
     "execution_count": 375,
     "metadata": {},
     "output_type": "execute_result"
    }
   ],
   "source": [
    "meanDailyReturns"
   ]
  },
  {
   "cell_type": "code",
   "execution_count": 376,
   "metadata": {},
   "outputs": [],
   "source": [
    "varianceDailyReturns = dict( { 'Infy': infy_df.gain_perc.var(), 'Glaxo': glaxo_df.gain_perc.var(),\n",
    "                          'BEML': beml_df.gain_perc.var(), 'Unitech': unitech_df.gain_perc.var()  } )"
   ]
  },
  {
   "cell_type": "code",
   "execution_count": 377,
   "metadata": {},
   "outputs": [
    {
     "data": {
      "text/plain": [
       "{'Infy': 2.054839267292997,\n",
       " 'Glaxo': 1.2963547704280514,\n",
       " 'BEML': 7.798203836595891,\n",
       " 'Unitech': 18.00382792056703}"
      ]
     },
     "execution_count": 377,
     "metadata": {},
     "output_type": "execute_result"
    }
   ],
   "source": [
    "varianceDailyReturns"
   ]
  },
  {
   "cell_type": "markdown",
   "metadata": {},
   "source": [
    "### c) Which stock has highest volatility? Draw the distribution of daily returns for all stock in one plot."
   ]
  },
  {
   "cell_type": "markdown",
   "metadata": {},
   "source": [
    "### Ans: Unitech has the highest volatality at 18%"
   ]
  },
  {
   "cell_type": "markdown",
   "metadata": {},
   "source": [
    "### distribution of daily returns for all stock in one plot."
   ]
  },
  {
   "cell_type": "code",
   "execution_count": 378,
   "metadata": {},
   "outputs": [
    {
     "data": {
      "image/png": "[encoded data removed]",
      "text/plain": [
       "<Figure size 720x432 with 1 Axes>"
      ]
     },
     "metadata": {},
     "output_type": "display_data"
    }
   ],
   "source": [
    "%matplotlib inline\n",
    "sn.set(rc={\"figure.figsize\": (10,6)});\n",
    "sn.distplot(unitech_df.gain, hist = False, color='g', label=\"Unitech\")\n",
    "sn.distplot(beml_df.gain, hist = False, color='b', label=\"BEML\")\n",
    "sn.distplot(glaxo_df.gain, hist = False, color='r', label=\"Glaxo\")\n",
    "sn.distplot(infy_df.gain, hist = False, color='y', label=\"Infosys\")\n",
    "plt.legend();"
   ]
  },
  {
   "cell_type": "markdown",
   "metadata": {},
   "source": [
    "### d) Are the percentage daily returns of these stocks correlated? Compute the correlations between the daily returns of the above 4 stocks and draw a heatmap."
   ]
  },
  {
   "cell_type": "code",
   "execution_count": 379,
   "metadata": {},
   "outputs": [],
   "source": [
    "# Preparing gain data frame\n",
    "gain_df = pd.DataFrame()\n",
    "\n",
    "gain_df['infy'] = infy_df.gain\n",
    "gain_df['glaxo'] = glaxo_df.gain\n",
    "gain_df['beml'] = beml_df.gain\n",
    "gain_df['unitech'] = unitech_df.gain"
   ]
  },
  {
   "cell_type": "code",
   "execution_count": 380,
   "metadata": {},
   "outputs": [
    {
     "data": {
      "text/html": [
       "<div>\n",
       "<style scoped>\n",
       "    .dataframe tbody tr th:only-of-type {\n",
       "        vertical-align: middle;\n",
       "    }\n",
       "\n",
       "    .dataframe tbody tr th {\n",
       "        vertical-align: top;\n",
       "    }\n",
       "\n",
       "    .dataframe thead th {\n",
       "        text-align: right;\n",
       "    }\n",
       "</style>\n",
       "<table border=\"1\" class=\"dataframe\">\n",
       "  <thead>\n",
       "    <tr style=\"text-align: right;\">\n",
       "      <th></th>\n",
       "      <th>infy</th>\n",
       "      <th>glaxo</th>\n",
       "      <th>beml</th>\n",
       "      <th>unitech</th>\n",
       "    </tr>\n",
       "  </thead>\n",
       "  <tbody>\n",
       "    <tr>\n",
       "      <th>infy</th>\n",
       "      <td>1.000000</td>\n",
       "      <td>0.030244</td>\n",
       "      <td>0.051830</td>\n",
       "      <td>0.041142</td>\n",
       "    </tr>\n",
       "    <tr>\n",
       "      <th>glaxo</th>\n",
       "      <td>0.030244</td>\n",
       "      <td>1.000000</td>\n",
       "      <td>0.156276</td>\n",
       "      <td>0.144485</td>\n",
       "    </tr>\n",
       "    <tr>\n",
       "      <th>beml</th>\n",
       "      <td>0.051830</td>\n",
       "      <td>0.156276</td>\n",
       "      <td>1.000000</td>\n",
       "      <td>0.257682</td>\n",
       "    </tr>\n",
       "    <tr>\n",
       "      <th>unitech</th>\n",
       "      <td>0.041142</td>\n",
       "      <td>0.144485</td>\n",
       "      <td>0.257682</td>\n",
       "      <td>1.000000</td>\n",
       "    </tr>\n",
       "  </tbody>\n",
       "</table>\n",
       "</div>"
      ],
      "text/plain": [
       "             infy     glaxo      beml   unitech\n",
       "infy     1.000000  0.030244  0.051830  0.041142\n",
       "glaxo    0.030244  1.000000  0.156276  0.144485\n",
       "beml     0.051830  0.156276  1.000000  0.257682\n",
       "unitech  0.041142  0.144485  0.257682  1.000000"
      ]
     },
     "execution_count": 380,
     "metadata": {},
     "output_type": "execute_result"
    }
   ],
   "source": [
    "# Correlation Matrix\n",
    "gain_df.corr()"
   ]
  },
  {
   "cell_type": "code",
   "execution_count": 381,
   "metadata": {},
   "outputs": [
    {
     "data": {
      "image/png": "[encoded data removed]",
      "text/plain": [
       "<Figure size 432x432 with 2 Axes>"
      ]
     },
     "metadata": {},
     "output_type": "display_data"
    }
   ],
   "source": [
    "# heat map\n",
    "corrmat = gain_df.corr()\n",
    "f, ax = plt.subplots(figsize=(6, 6))\n",
    "sn.heatmap(corrmat, vmax=.8, square=True, annot=True)\n",
    "plt.show()"
   ]
  },
  {
   "cell_type": "markdown",
   "metadata": {},
   "source": [
    "## Question 2: Monthly Returns Analysis"
   ]
  },
  {
   "cell_type": "markdown",
   "metadata": {},
   "source": [
    "### a) Calculate the mean and variance of percentage monthly returns?"
   ]
  },
  {
   "cell_type": "code",
   "execution_count": 382,
   "metadata": {},
   "outputs": [],
   "source": [
    "# Mean Monthly returns\n",
    "\n",
    "monthly_gain_summary = pd.DataFrame()\n",
    "monthly_gain_summary['Infy'] = infy_df.gain_perc.resample('M').mean()\n",
    "monthly_gain_summary['Glaxo'] = glaxo_df.gain_perc.resample('M').mean()\n",
    "monthly_gain_summary['BEML'] = beml_df.gain_perc.resample('M').mean()\n",
    "monthly_gain_summary['Unitech'] = unitech_df.gain_perc.resample('M').mean()"
   ]
  },
  {
   "cell_type": "code",
   "execution_count": 383,
   "metadata": {},
   "outputs": [
    {
     "data": {
      "text/html": [
       "<div>\n",
       "<style scoped>\n",
       "    .dataframe tbody tr th:only-of-type {\n",
       "        vertical-align: middle;\n",
       "    }\n",
       "\n",
       "    .dataframe tbody tr th {\n",
       "        vertical-align: top;\n",
       "    }\n",
       "\n",
       "    .dataframe thead th {\n",
       "        text-align: right;\n",
       "    }\n",
       "</style>\n",
       "<table border=\"1\" class=\"dataframe\">\n",
       "  <thead>\n",
       "    <tr style=\"text-align: right;\">\n",
       "      <th></th>\n",
       "      <th>Infy</th>\n",
       "      <th>Glaxo</th>\n",
       "      <th>BEML</th>\n",
       "      <th>Unitech</th>\n",
       "    </tr>\n",
       "    <tr>\n",
       "      <th>Date</th>\n",
       "      <th></th>\n",
       "      <th></th>\n",
       "      <th></th>\n",
       "      <th></th>\n",
       "    </tr>\n",
       "  </thead>\n",
       "  <tbody>\n",
       "    <tr>\n",
       "      <th>2014-04-30</th>\n",
       "      <td>-0.522825</td>\n",
       "      <td>-0.197424</td>\n",
       "      <td>1.321834</td>\n",
       "      <td>0.179742</td>\n",
       "    </tr>\n",
       "    <tr>\n",
       "      <th>2014-05-31</th>\n",
       "      <td>-0.253531</td>\n",
       "      <td>-0.166625</td>\n",
       "      <td>1.512443</td>\n",
       "      <td>1.958371</td>\n",
       "    </tr>\n",
       "    <tr>\n",
       "      <th>2014-06-30</th>\n",
       "      <td>0.155235</td>\n",
       "      <td>-0.287092</td>\n",
       "      <td>0.544842</td>\n",
       "      <td>0.094626</td>\n",
       "    </tr>\n",
       "    <tr>\n",
       "      <th>2014-07-31</th>\n",
       "      <td>-0.106803</td>\n",
       "      <td>-0.278025</td>\n",
       "      <td>-0.352953</td>\n",
       "      <td>-1.735268</td>\n",
       "    </tr>\n",
       "    <tr>\n",
       "      <th>2014-08-31</th>\n",
       "      <td>0.385720</td>\n",
       "      <td>-0.238594</td>\n",
       "      <td>-0.629060</td>\n",
       "      <td>-0.732429</td>\n",
       "    </tr>\n",
       "    <tr>\n",
       "      <th>2014-09-30</th>\n",
       "      <td>0.233406</td>\n",
       "      <td>0.644348</td>\n",
       "      <td>-0.351399</td>\n",
       "      <td>-0.764142</td>\n",
       "    </tr>\n",
       "    <tr>\n",
       "      <th>2014-10-31</th>\n",
       "      <td>0.323861</td>\n",
       "      <td>-0.229016</td>\n",
       "      <td>0.133619</td>\n",
       "      <td>-0.050788</td>\n",
       "    </tr>\n",
       "    <tr>\n",
       "      <th>2014-11-30</th>\n",
       "      <td>0.248686</td>\n",
       "      <td>-0.106279</td>\n",
       "      <td>0.508266</td>\n",
       "      <td>-0.416178</td>\n",
       "    </tr>\n",
       "    <tr>\n",
       "      <th>2014-12-31</th>\n",
       "      <td>-0.343077</td>\n",
       "      <td>0.015508</td>\n",
       "      <td>0.151493</td>\n",
       "      <td>-0.957593</td>\n",
       "    </tr>\n",
       "    <tr>\n",
       "      <th>2015-01-31</th>\n",
       "      <td>0.206238</td>\n",
       "      <td>0.061622</td>\n",
       "      <td>0.157325</td>\n",
       "      <td>0.220463</td>\n",
       "    </tr>\n",
       "  </tbody>\n",
       "</table>\n",
       "</div>"
      ],
      "text/plain": [
       "                Infy     Glaxo      BEML   Unitech\n",
       "Date                                              \n",
       "2014-04-30 -0.522825 -0.197424  1.321834  0.179742\n",
       "2014-05-31 -0.253531 -0.166625  1.512443  1.958371\n",
       "2014-06-30  0.155235 -0.287092  0.544842  0.094626\n",
       "2014-07-31 -0.106803 -0.278025 -0.352953 -1.735268\n",
       "2014-08-31  0.385720 -0.238594 -0.629060 -0.732429\n",
       "2014-09-30  0.233406  0.644348 -0.351399 -0.764142\n",
       "2014-10-31  0.323861 -0.229016  0.133619 -0.050788\n",
       "2014-11-30  0.248686 -0.106279  0.508266 -0.416178\n",
       "2014-12-31 -0.343077  0.015508  0.151493 -0.957593\n",
       "2015-01-31  0.206238  0.061622  0.157325  0.220463"
      ]
     },
     "execution_count": 383,
     "metadata": {},
     "output_type": "execute_result"
    }
   ],
   "source": [
    "monthly_gain_summary.head(10)"
   ]
  },
  {
   "cell_type": "code",
   "execution_count": 384,
   "metadata": {},
   "outputs": [
    {
     "data": {
      "text/html": [
       "<div>\n",
       "<style scoped>\n",
       "    .dataframe tbody tr th:only-of-type {\n",
       "        vertical-align: middle;\n",
       "    }\n",
       "\n",
       "    .dataframe tbody tr th {\n",
       "        vertical-align: top;\n",
       "    }\n",
       "\n",
       "    .dataframe thead th {\n",
       "        text-align: right;\n",
       "    }\n",
       "</style>\n",
       "<table border=\"1\" class=\"dataframe\">\n",
       "  <thead>\n",
       "    <tr style=\"text-align: right;\">\n",
       "      <th></th>\n",
       "      <th>Infy</th>\n",
       "      <th>Glaxo</th>\n",
       "      <th>BEML</th>\n",
       "      <th>Unitech</th>\n",
       "    </tr>\n",
       "    <tr>\n",
       "      <th>Date</th>\n",
       "      <th></th>\n",
       "      <th></th>\n",
       "      <th></th>\n",
       "      <th></th>\n",
       "    </tr>\n",
       "  </thead>\n",
       "  <tbody>\n",
       "    <tr>\n",
       "      <th>2017-06-30</th>\n",
       "      <td>-0.084076</td>\n",
       "      <td>-0.041364</td>\n",
       "      <td>1.123743</td>\n",
       "      <td>0.647118</td>\n",
       "    </tr>\n",
       "    <tr>\n",
       "      <th>2017-07-31</th>\n",
       "      <td>0.201014</td>\n",
       "      <td>-0.226584</td>\n",
       "      <td>0.390832</td>\n",
       "      <td>0.616719</td>\n",
       "    </tr>\n",
       "    <tr>\n",
       "      <th>2017-08-31</th>\n",
       "      <td>-1.035472</td>\n",
       "      <td>0.007610</td>\n",
       "      <td>0.200457</td>\n",
       "      <td>-1.227245</td>\n",
       "    </tr>\n",
       "    <tr>\n",
       "      <th>2017-09-30</th>\n",
       "      <td>-0.239025</td>\n",
       "      <td>-0.329532</td>\n",
       "      <td>-0.765685</td>\n",
       "      <td>-0.503249</td>\n",
       "    </tr>\n",
       "    <tr>\n",
       "      <th>2017-10-31</th>\n",
       "      <td>-0.046439</td>\n",
       "      <td>-0.260156</td>\n",
       "      <td>0.077046</td>\n",
       "      <td>-0.718546</td>\n",
       "    </tr>\n",
       "    <tr>\n",
       "      <th>2017-11-30</th>\n",
       "      <td>0.256331</td>\n",
       "      <td>-0.506679</td>\n",
       "      <td>-0.507339</td>\n",
       "      <td>-0.751581</td>\n",
       "    </tr>\n",
       "    <tr>\n",
       "      <th>2017-12-31</th>\n",
       "      <td>0.344012</td>\n",
       "      <td>-0.219229</td>\n",
       "      <td>-0.330933</td>\n",
       "      <td>1.112370</td>\n",
       "    </tr>\n",
       "    <tr>\n",
       "      <th>2018-01-31</th>\n",
       "      <td>0.398937</td>\n",
       "      <td>-0.297765</td>\n",
       "      <td>-0.666872</td>\n",
       "      <td>-0.990761</td>\n",
       "    </tr>\n",
       "    <tr>\n",
       "      <th>2018-02-28</th>\n",
       "      <td>0.123805</td>\n",
       "      <td>-0.172840</td>\n",
       "      <td>-0.671162</td>\n",
       "      <td>-0.639329</td>\n",
       "    </tr>\n",
       "    <tr>\n",
       "      <th>2018-03-31</th>\n",
       "      <td>-0.124198</td>\n",
       "      <td>-0.802918</td>\n",
       "      <td>-0.430286</td>\n",
       "      <td>-1.421526</td>\n",
       "    </tr>\n",
       "  </tbody>\n",
       "</table>\n",
       "</div>"
      ],
      "text/plain": [
       "                Infy     Glaxo      BEML   Unitech\n",
       "Date                                              \n",
       "2017-06-30 -0.084076 -0.041364  1.123743  0.647118\n",
       "2017-07-31  0.201014 -0.226584  0.390832  0.616719\n",
       "2017-08-31 -1.035472  0.007610  0.200457 -1.227245\n",
       "2017-09-30 -0.239025 -0.329532 -0.765685 -0.503249\n",
       "2017-10-31 -0.046439 -0.260156  0.077046 -0.718546\n",
       "2017-11-30  0.256331 -0.506679 -0.507339 -0.751581\n",
       "2017-12-31  0.344012 -0.219229 -0.330933  1.112370\n",
       "2018-01-31  0.398937 -0.297765 -0.666872 -0.990761\n",
       "2018-02-28  0.123805 -0.172840 -0.671162 -0.639329\n",
       "2018-03-31 -0.124198 -0.802918 -0.430286 -1.421526"
      ]
     },
     "execution_count": 384,
     "metadata": {},
     "output_type": "execute_result"
    }
   ],
   "source": [
    "monthly_gain_summary.tail(10)"
   ]
  },
  {
   "cell_type": "code",
   "execution_count": 385,
   "metadata": {},
   "outputs": [],
   "source": [
    "#Mean monthly returns\n",
    "meanMonthlyReturns = dict( { 'Infy': monthly_gain_summary.Infy.mean(), 'Glaxo': monthly_gain_summary.Glaxo.mean(),\n",
    "                          'BEML': monthly_gain_summary.BEML.mean(),'Unitech': monthly_gain_summary.Unitech.mean()  } )"
   ]
  },
  {
   "cell_type": "code",
   "execution_count": 386,
   "metadata": {},
   "outputs": [
    {
     "data": {
      "text/plain": [
       "{'Infy': -0.08433601128697675,\n",
       " 'Glaxo': -0.17752776242819698,\n",
       " 'BEML': -0.0962615655761902,\n",
       " 'Unitech': -0.358976463747567}"
      ]
     },
     "execution_count": 386,
     "metadata": {},
     "output_type": "execute_result"
    }
   ],
   "source": [
    "meanMonthlyReturns"
   ]
  },
  {
   "cell_type": "code",
   "execution_count": 387,
   "metadata": {},
   "outputs": [],
   "source": [
    "# Variance in Monthly Returns\n",
    "varianceMonthlyReturns = dict( { 'Infy': monthly_gain_summary.Infy.var(), 'Glaxo': monthly_gain_summary.Glaxo.var(),\n",
    "                          'BEML': monthly_gain_summary.BEML.var(),'Unitech': monthly_gain_summary.Unitech.var()  } )"
   ]
  },
  {
   "cell_type": "code",
   "execution_count": 388,
   "metadata": {},
   "outputs": [
    {
     "data": {
      "text/plain": [
       "{'Infy': 0.12270714290660692,\n",
       " 'Glaxo': 0.1029971420897659,\n",
       " 'BEML': 0.37953127198164494,\n",
       " 'Unitech': 0.9158056415242813}"
      ]
     },
     "execution_count": 388,
     "metadata": {},
     "output_type": "execute_result"
    }
   ],
   "source": [
    "varianceMonthlyReturns"
   ]
  },
  {
   "cell_type": "code",
   "execution_count": 389,
   "metadata": {},
   "outputs": [
    {
     "data": {
      "text/plain": [
       "{'Infy': 0.3502957934469195,\n",
       " 'Glaxo': 0.32093167822726054,\n",
       " 'BEML': 0.6160610943580554,\n",
       " 'Unitech': 0.9569773464007815}"
      ]
     },
     "execution_count": 389,
     "metadata": {},
     "output_type": "execute_result"
    }
   ],
   "source": [
    "sdMonthlyReturns = dict( { 'Infy': monthly_gain_summary.Infy.std(), 'Glaxo': monthly_gain_summary.Glaxo.std(),\n",
    "                          'BEML': monthly_gain_summary.BEML.std(),'Unitech': monthly_gain_summary.Unitech.std()  } )\n",
    "sdMonthlyReturns"
   ]
  },
  {
   "cell_type": "markdown",
   "metadata": {},
   "source": [
    "### b) Which stock has highest volatility as far as monthly returns is concerned? Draw the box-plot of monthly returns for all stock in one plot."
   ]
  },
  {
   "cell_type": "markdown",
   "metadata": {},
   "source": [
    "Unitech has the highest volatility as far as monthly returns is concerned with a variance of 0.915 "
   ]
  },
  {
   "cell_type": "code",
   "execution_count": 390,
   "metadata": {},
   "outputs": [
    {
     "data": {
      "text/plain": [
       "<matplotlib.axes._subplots.AxesSubplot at 0x1a247531d0>"
      ]
     },
     "execution_count": 390,
     "metadata": {},
     "output_type": "execute_result"
    },
    {
     "data": {
      "image/png": "[encoded data removed]",
      "text/plain": [
       "<Figure size 720x432 with 1 Axes>"
      ]
     },
     "metadata": {},
     "output_type": "display_data"
    }
   ],
   "source": [
    "# box-plot of monthly returns for all stock in one plot.\n",
    "\n",
    "sn.boxplot(data = monthly_gain_summary, palette=\"Set2\")"
   ]
  },
  {
   "cell_type": "markdown",
   "metadata": {},
   "source": [
    "### c) Which stock has highest probability of giving a return (monthly) of 2% or more?"
   ]
  },
  {
   "cell_type": "code",
   "execution_count": 391,
   "metadata": {},
   "outputs": [
    {
     "data": {
      "text/plain": [
       "{'Glaxo': 0.26911813263926554,\n",
       " 'BEML': 0.42515708188780277,\n",
       " 'Unitech': 0.3460473359102021,\n",
       " 'Infosys': 0.3829083796676287}"
      ]
     },
     "execution_count": 391,
     "metadata": {},
     "output_type": "execute_result"
    }
   ],
   "source": [
    "\n",
    "gl_2percent = 1 - stats.norm.cdf(0.02,loc = monthly_gain_summary.Glaxo.mean(),scale = monthly_gain_summary.Glaxo.std())\n",
    "bm_2percent = 1 - stats.norm.cdf(0.02,loc = monthly_gain_summary.BEML.mean(),scale = monthly_gain_summary.BEML.std())\n",
    "ut_2percent = 1 - stats.norm.cdf(0.02,loc = monthly_gain_summary.Unitech.mean(),scale = monthly_gain_summary.Unitech.std())\n",
    "in_2percent = 1 - stats.norm.cdf(0.02,loc = monthly_gain_summary.Infy.mean(),scale = monthly_gain_summary.Infy.std())\n",
    "two_percent_profit = dict( {\"Glaxo\" : gl_2percent, \"BEML\" : bm_2percent, \"Unitech\" : ut_2percent,\"Infosys\" : in_2percent})\n",
    "two_percent_profit"
   ]
  },
  {
   "cell_type": "markdown",
   "metadata": {},
   "source": [
    "BEML Has the highest probability of making a monthly return of 2% or more"
   ]
  },
  {
   "cell_type": "markdown",
   "metadata": {},
   "source": [
    "### d) Which stock has highest probability of making a loss (monthly) of 2% or more?"
   ]
  },
  {
   "cell_type": "code",
   "execution_count": 392,
   "metadata": {},
   "outputs": [
    {
     "data": {
      "text/plain": [
       "{'Glaxo': 0.6882320183312017,\n",
       " 'BEML': 0.5492588155799675,\n",
       " 'Unitech': 0.6384114054647549,\n",
       " 'Infosys': 0.5728606728361403}"
      ]
     },
     "execution_count": 392,
     "metadata": {},
     "output_type": "execute_result"
    }
   ],
   "source": [
    "gl_2percentloss = stats.norm.cdf(-0.02,loc = monthly_gain_summary.Glaxo.mean(),scale = monthly_gain_summary.Glaxo.std())\n",
    "bm_2percentloss = stats.norm.cdf(-0.02,loc = monthly_gain_summary.BEML.mean(),scale = monthly_gain_summary.BEML.std())\n",
    "ut_2percentloss = stats.norm.cdf(-0.02,loc = monthly_gain_summary.Unitech.mean(),scale = monthly_gain_summary.Unitech.std())\n",
    "in_2percentloss = stats.norm.cdf(-0.02,loc = monthly_gain_summary.Infy.mean(),scale = monthly_gain_summary.Infy.std())\n",
    "two_percent_loss = dict( {\"Glaxo\" : gl_2percentloss, \"BEML\" : bm_2percentloss, \"Unitech\" : ut_2percentloss,\"Infosys\" : in_2percentloss})\n",
    "two_percent_loss\n"
   ]
  },
  {
   "cell_type": "markdown",
   "metadata": {},
   "source": [
    "Glaxo has the highest probability of making a loss of 2% or more"
   ]
  },
  {
   "cell_type": "markdown",
   "metadata": {},
   "source": [
    "## 3. Portfolio Analysis:"
   ]
  },
  {
   "cell_type": "code",
   "execution_count": 393,
   "metadata": {},
   "outputs": [],
   "source": [
    "# weights array\n",
    "stock_weights = np.asarray([0.5,0.5,0.5,0.5])"
   ]
  },
  {
   "cell_type": "markdown",
   "metadata": {},
   "source": [
    "### a) Average monthly returns and variance of monthly returns of the portfolio "
   ]
  },
  {
   "cell_type": "code",
   "execution_count": 394,
   "metadata": {},
   "outputs": [],
   "source": [
    "# Covariance Matrix\n",
    "monthly_cov_matrix = monthly_gain_summary.cov()"
   ]
  },
  {
   "cell_type": "code",
   "execution_count": 395,
   "metadata": {},
   "outputs": [
    {
     "data": {
      "text/html": [
       "<div>\n",
       "<style scoped>\n",
       "    .dataframe tbody tr th:only-of-type {\n",
       "        vertical-align: middle;\n",
       "    }\n",
       "\n",
       "    .dataframe tbody tr th {\n",
       "        vertical-align: top;\n",
       "    }\n",
       "\n",
       "    .dataframe thead th {\n",
       "        text-align: right;\n",
       "    }\n",
       "</style>\n",
       "<table border=\"1\" class=\"dataframe\">\n",
       "  <thead>\n",
       "    <tr style=\"text-align: right;\">\n",
       "      <th></th>\n",
       "      <th>Infy</th>\n",
       "      <th>Glaxo</th>\n",
       "      <th>BEML</th>\n",
       "      <th>Unitech</th>\n",
       "    </tr>\n",
       "  </thead>\n",
       "  <tbody>\n",
       "    <tr>\n",
       "      <th>Infy</th>\n",
       "      <td>0.122707</td>\n",
       "      <td>0.020090</td>\n",
       "      <td>-0.021197</td>\n",
       "      <td>0.039139</td>\n",
       "    </tr>\n",
       "    <tr>\n",
       "      <th>Glaxo</th>\n",
       "      <td>0.020090</td>\n",
       "      <td>0.102997</td>\n",
       "      <td>0.044667</td>\n",
       "      <td>0.000964</td>\n",
       "    </tr>\n",
       "    <tr>\n",
       "      <th>BEML</th>\n",
       "      <td>-0.021197</td>\n",
       "      <td>0.044667</td>\n",
       "      <td>0.379531</td>\n",
       "      <td>0.196549</td>\n",
       "    </tr>\n",
       "    <tr>\n",
       "      <th>Unitech</th>\n",
       "      <td>0.039139</td>\n",
       "      <td>0.000964</td>\n",
       "      <td>0.196549</td>\n",
       "      <td>0.915806</td>\n",
       "    </tr>\n",
       "  </tbody>\n",
       "</table>\n",
       "</div>"
      ],
      "text/plain": [
       "             Infy     Glaxo      BEML   Unitech\n",
       "Infy     0.122707  0.020090 -0.021197  0.039139\n",
       "Glaxo    0.020090  0.102997  0.044667  0.000964\n",
       "BEML    -0.021197  0.044667  0.379531  0.196549\n",
       "Unitech  0.039139  0.000964  0.196549  0.915806"
      ]
     },
     "execution_count": 395,
     "metadata": {},
     "output_type": "execute_result"
    }
   ],
   "source": [
    "monthly_cov_matrix"
   ]
  },
  {
   "cell_type": "code",
   "execution_count": 396,
   "metadata": {},
   "outputs": [
    {
     "data": {
      "text/plain": [
       "{'Infy': -0.08433601128697675,\n",
       " 'Glaxo': -0.17752776242819698,\n",
       " 'BEML': -0.0962615655761902,\n",
       " 'Unitech': -0.358976463747567}"
      ]
     },
     "execution_count": 396,
     "metadata": {},
     "output_type": "execute_result"
    }
   ],
   "source": [
    "meanMonthlyReturns"
   ]
  },
  {
   "cell_type": "code",
   "execution_count": 397,
   "metadata": {},
   "outputs": [
    {
     "data": {
      "text/plain": [
       "array([-0.09626157, -0.17752776, -0.08433601, -0.35897646])"
      ]
     },
     "execution_count": 397,
     "metadata": {},
     "output_type": "execute_result"
    }
   ],
   "source": [
    "MonthlyReturns = np.asarray([meanMonthlyReturns['BEML'],meanMonthlyReturns['Glaxo'],\n",
    "                             meanMonthlyReturns['Infy'],meanMonthlyReturns['Unitech']])\n",
    "MonthlyReturns"
   ]
  },
  {
   "cell_type": "code",
   "execution_count": 398,
   "metadata": {},
   "outputs": [
    {
     "data": {
      "text/plain": [
       "-0.36"
      ]
     },
     "execution_count": 398,
     "metadata": {},
     "output_type": "execute_result"
    }
   ],
   "source": [
    "#Average monthly returns of the portfolio\n",
    "\n",
    "monthly_portfolio_average = round(np.sum(MonthlyReturns * stock_weights),2)\n",
    "monthly_portfolio_average"
   ]
  },
  {
   "cell_type": "code",
   "execution_count": 399,
   "metadata": {},
   "outputs": [
    {
     "data": {
      "text/plain": [
       "0.52"
      ]
     },
     "execution_count": 399,
     "metadata": {},
     "output_type": "execute_result"
    }
   ],
   "source": [
    "#monthly variance of the portfolio\n",
    "monthly_portfolio_var = round(np.dot(stock_weights.T,np.dot(monthly_cov_matrix, stock_weights)),2)\n",
    "monthly_portfolio_var"
   ]
  },
  {
   "cell_type": "markdown",
   "metadata": {},
   "source": [
    "### b) If investment on an alternative instrument gives you an average return of 0.5% monthly. Is it wiser to invest in the alternative instrument or the equally weighted portfolio you created above? Can you verify if the above portfolio monthly returns are higher than 0.5%?"
   ]
  },
  {
   "cell_type": "code",
   "execution_count": 400,
   "metadata": {},
   "outputs": [
    {
     "data": {
      "text/plain": [
       "0.3063707874005155"
      ]
     },
     "execution_count": 400,
     "metadata": {},
     "output_type": "execute_result"
    }
   ],
   "source": [
    "# probability that the portfoloi will return more than 5% \n",
    "\n",
    "p_percprofit = 1 - stats.norm.cdf(0.005,loc = monthly_portfolio_average,scale = np.sqrt(monthly_portfolio_var))\n",
    "p_percprofit"
   ]
  },
  {
   "cell_type": "markdown",
   "metadata": {},
   "source": [
    "#### The portfolio has a 30.6% probability of returning more than 0.5% profit with an average return of -0.36%. Since the alternative instrument gives an average return of 0.5%, it is wiser of invest in the alternative instrument. "
   ]
  },
  {
   "cell_type": "markdown",
   "metadata": {},
   "source": [
    "### c) Randomly change the weights of the stocks in the portfolio and check the average returns and the variance of the portfolio. Create at least 25 different weight combinations of stocks and calculate the monthly mean returns and variances of all combination of portfolios."
   ]
  },
  {
   "cell_type": "code",
   "execution_count": 401,
   "metadata": {},
   "outputs": [],
   "source": [
    "#set number of runs of random portfolio weights\n",
    "num_portfolios = 25\n",
    "\n",
    "#set up array to hold results \n",
    "results = np.zeros((num_portfolios,6))"
   ]
  },
  {
   "cell_type": "code",
   "execution_count": 402,
   "metadata": {},
   "outputs": [
    {
     "name": "stdout",
     "output_type": "stream",
     "text": [
      "0 Weights:  [0.20571727 0.34089581 0.35318707 0.10019985] Sum:  1.0\n",
      "1 Weights:  [0.43209637 0.19508352 0.24428944 0.12853067] Sum:  1.0\n",
      "2 Weights:  [0.29773361 0.21321392 0.0635897  0.42546277] Sum:  1.0\n",
      "3 Weights:  [0.08793993 0.47875522 0.03116056 0.40214428] Sum:  1.0\n",
      "4 Weights:  [0.03360045 0.16896043 0.66433432 0.13310479] Sum:  1.0\n",
      "5 Weights:  [0.28146605 0.21083805 0.26961714 0.23807876] Sum:  0.9999999999999998\n",
      "6 Weights:  [0.2977637  0.28093051 0.2704678  0.15083798] Sum:  1.0000000000000002\n",
      "7 Weights:  [0.26920647 0.4209213  0.28601564 0.02385659] Sum:  1.0\n",
      "8 Weights:  [0.36059955 0.30410463 0.16115657 0.17413925] Sum:  1.0\n",
      "9 Weights:  [0.09039979 0.38036952 0.50257117 0.02665952] Sum:  0.9999999999999999\n",
      "10 Weights:  [0.49593224 0.44259346 0.05253368 0.00894062] Sum:  1.0000000000000002\n",
      "11 Weights:  [0.00710814 0.44506634 0.06264901 0.48517652] Sum:  1.0\n",
      "12 Weights:  [0.43107701 0.181541   0.34785591 0.03952608] Sum:  1.0\n",
      "13 Weights:  [0.24379946 0.2106114  0.23943709 0.30615204] Sum:  1.0\n",
      "14 Weights:  [0.08870438 0.3642756  0.43747744 0.10954258] Sum:  1.0\n",
      "15 Weights:  [0.16050954 0.45839357 0.35373289 0.02736399] Sum:  1.0\n",
      "16 Weights:  [0.26953445 0.02366123 0.27472907 0.43207525] Sum:  1.0\n",
      "17 Weights:  [0.29352666 0.20433136 0.32768702 0.17445495] Sum:  1.0000000000000002\n",
      "18 Weights:  [0.21273699 0.4325554  0.00712792 0.34757969] Sum:  1.0\n",
      "19 Weights:  [0.33022186 0.2515199  0.31396566 0.10429257] Sum:  1.0\n",
      "20 Weights:  [0.16475422 0.40679071 0.37602803 0.05242704] Sum:  1.0\n",
      "21 Weights:  [0.3807278  0.17160569 0.01736964 0.43029687] Sum:  1.0\n",
      "22 Weights:  [0.31404606 0.29142814 0.16251771 0.23200809] Sum:  0.9999999999999998\n",
      "23 Weights:  [0.33428918 0.28906976 0.19330935 0.18333171] Sum:  1.0\n",
      "24 Weights:  [0.29044191 0.27793868 0.23776578 0.19385363] Sum:  1.0\n"
     ]
    }
   ],
   "source": [
    " \n",
    "for i in range(num_portfolios):\n",
    "    #randomize weights\n",
    "    weights = np.random.random(4)\n",
    "    #rebalance weights to sum to 1\n",
    "    weights /= np.sum(weights)\n",
    "    \n",
    "    print(i,\"Weights: \",weights,\"Sum: \", weights.sum())\n",
    "    \n",
    "    #calculate portfolio return and volatility\n",
    "    portfolio_return = np.sum(MonthlyReturns * weights) \n",
    "    portfolio_var = np.dot(weights.T,np.dot(monthly_cov_matrix, weights)) \n",
    "    results[i,0] = weights[0]\n",
    "    results[i,1] = weights[1]\n",
    "    results[i,2] = weights[2]\n",
    "    results[i,3] = weights[3]\n",
    "    results[i,4] = portfolio_return\n",
    "    results[i,5] = portfolio_var\n",
    "    "
   ]
  },
  {
   "cell_type": "code",
   "execution_count": 403,
   "metadata": {},
   "outputs": [
    {
     "data": {
      "text/plain": [
       "array([[ 0.20571727,  0.34089581,  0.35318707,  0.10019985, -0.14607691,\n",
       "         0.09978404],\n",
       "       [ 0.43209637,  0.19508352,  0.24428944,  0.12853067, -0.1429689 ,\n",
       "         0.08451645],\n",
       "       [ 0.29773361,  0.21321392,  0.0635897 ,  0.42546277, -0.22460572,\n",
       "         0.20655731],\n",
       "       [ 0.08793993,  0.47875522,  0.03116056,  0.40214428, -0.24044587,\n",
       "         0.18400263],\n",
       "       [ 0.03360045,  0.16896043,  0.66433432,  0.13310479, -0.13703839,\n",
       "         0.23126907],\n",
       "       [ 0.28146605,  0.21083805,  0.26961714,  0.23807876, -0.17272708,\n",
       "         0.12861897],\n",
       "       [ 0.2977637 ,  0.28093051,  0.2704678 ,  0.15083798, -0.15549363,\n",
       "         0.09397777],\n",
       "       [ 0.26920647,  0.4209213 ,  0.28601564,  0.02385659, -0.13332482,\n",
       "         0.07395789],\n",
       "       [ 0.36059955,  0.30410463,  0.16115657,  0.17413925, -0.16480209,\n",
       "         0.08547904],\n",
       "       [ 0.09039979,  0.38036952,  0.50257117,  0.02665952, -0.12818316,\n",
       "         0.13442425],\n",
       "       [ 0.49593224,  0.44259346,  0.05253368,  0.00894062, -0.13395179,\n",
       "         0.06180746],\n",
       "       [ 0.00710814,  0.44506634,  0.06264901,  0.48517652, -0.25914639,\n",
       "         0.25270895],\n",
       "       [ 0.43107701,  0.181541  ,  0.34785591,  0.03952608, -0.11725043,\n",
       "         0.08273333],\n",
       "       [ 0.24379946,  0.2106114 ,  0.23943709,  0.30615204, -0.19095244,\n",
       "         0.15833419],\n",
       "       [ 0.08870438,  0.3642756 ,  0.43747744,  0.10954258, -0.14942616,\n",
       "         0.13182454],\n",
       "       [ 0.16050954,  0.45839357,  0.35373289,  0.02736399, -0.13648394,\n",
       "         0.09218637],\n",
       "       [ 0.26953445,  0.02366123,  0.27472907,  0.43207525, -0.20842073,\n",
       "         0.26208427],\n",
       "       [ 0.29352666,  0.20433136,  0.32768702,  0.17445495, -0.15479086,\n",
       "         0.11436091],\n",
       "       [ 0.21273699,  0.4325554 ,  0.00712792,  0.34757969, -0.22264306,\n",
       "         0.1464441 ],\n",
       "       [ 0.33022186,  0.2515199 ,  0.31396566,  0.10429257, -0.14035663,\n",
       "         0.0888843 ],\n",
       "       [ 0.16475422,  0.40679071,  0.37602803,  0.05242704, -0.13860892,\n",
       "         0.09875437],\n",
       "       [ 0.3807278 ,  0.17160569,  0.01736964,  0.43029687, -0.22304556,\n",
       "         0.20901618],\n",
       "       [ 0.31404606,  0.29142814,  0.16251771,  0.23200809, -0.17895869,\n",
       "         0.10656974],\n",
       "       [ 0.33428918,  0.28906976,  0.19330935,  0.18333171, -0.16561182,\n",
       "         0.09224796],\n",
       "       [ 0.29044191,  0.27793868,  0.23776578,  0.19385363, -0.16694133,\n",
       "         0.10302788]])"
      ]
     },
     "execution_count": 403,
     "metadata": {},
     "output_type": "execute_result"
    }
   ],
   "source": [
    "# Array of 25 Portfolios\n",
    "results"
   ]
  },
  {
   "cell_type": "markdown",
   "metadata": {},
   "source": [
    "### d) Create a dataframe where the stocks weight, mean and variances of all possible portfolio combinations are stored."
   ]
  },
  {
   "cell_type": "code",
   "execution_count": 405,
   "metadata": {},
   "outputs": [
    {
     "data": {
      "text/html": [
       "<div>\n",
       "<style scoped>\n",
       "    .dataframe tbody tr th:only-of-type {\n",
       "        vertical-align: middle;\n",
       "    }\n",
       "\n",
       "    .dataframe tbody tr th {\n",
       "        vertical-align: top;\n",
       "    }\n",
       "\n",
       "    .dataframe thead th {\n",
       "        text-align: right;\n",
       "    }\n",
       "</style>\n",
       "<table border=\"1\" class=\"dataframe\">\n",
       "  <thead>\n",
       "    <tr style=\"text-align: right;\">\n",
       "      <th></th>\n",
       "      <th>BEML_weight</th>\n",
       "      <th>Glaxo_weight</th>\n",
       "      <th>Infy_weight</th>\n",
       "      <th>Unitech_weight</th>\n",
       "      <th>mean_return</th>\n",
       "      <th>std_returns</th>\n",
       "    </tr>\n",
       "  </thead>\n",
       "  <tbody>\n",
       "    <tr>\n",
       "      <th>0</th>\n",
       "      <td>0.205717</td>\n",
       "      <td>0.340896</td>\n",
       "      <td>0.353187</td>\n",
       "      <td>0.100200</td>\n",
       "      <td>-0.146077</td>\n",
       "      <td>0.099784</td>\n",
       "    </tr>\n",
       "    <tr>\n",
       "      <th>1</th>\n",
       "      <td>0.432096</td>\n",
       "      <td>0.195084</td>\n",
       "      <td>0.244289</td>\n",
       "      <td>0.128531</td>\n",
       "      <td>-0.142969</td>\n",
       "      <td>0.084516</td>\n",
       "    </tr>\n",
       "    <tr>\n",
       "      <th>2</th>\n",
       "      <td>0.297734</td>\n",
       "      <td>0.213214</td>\n",
       "      <td>0.063590</td>\n",
       "      <td>0.425463</td>\n",
       "      <td>-0.224606</td>\n",
       "      <td>0.206557</td>\n",
       "    </tr>\n",
       "    <tr>\n",
       "      <th>3</th>\n",
       "      <td>0.087940</td>\n",
       "      <td>0.478755</td>\n",
       "      <td>0.031161</td>\n",
       "      <td>0.402144</td>\n",
       "      <td>-0.240446</td>\n",
       "      <td>0.184003</td>\n",
       "    </tr>\n",
       "    <tr>\n",
       "      <th>4</th>\n",
       "      <td>0.033600</td>\n",
       "      <td>0.168960</td>\n",
       "      <td>0.664334</td>\n",
       "      <td>0.133105</td>\n",
       "      <td>-0.137038</td>\n",
       "      <td>0.231269</td>\n",
       "    </tr>\n",
       "    <tr>\n",
       "      <th>5</th>\n",
       "      <td>0.281466</td>\n",
       "      <td>0.210838</td>\n",
       "      <td>0.269617</td>\n",
       "      <td>0.238079</td>\n",
       "      <td>-0.172727</td>\n",
       "      <td>0.128619</td>\n",
       "    </tr>\n",
       "    <tr>\n",
       "      <th>6</th>\n",
       "      <td>0.297764</td>\n",
       "      <td>0.280931</td>\n",
       "      <td>0.270468</td>\n",
       "      <td>0.150838</td>\n",
       "      <td>-0.155494</td>\n",
       "      <td>0.093978</td>\n",
       "    </tr>\n",
       "    <tr>\n",
       "      <th>7</th>\n",
       "      <td>0.269206</td>\n",
       "      <td>0.420921</td>\n",
       "      <td>0.286016</td>\n",
       "      <td>0.023857</td>\n",
       "      <td>-0.133325</td>\n",
       "      <td>0.073958</td>\n",
       "    </tr>\n",
       "    <tr>\n",
       "      <th>8</th>\n",
       "      <td>0.360600</td>\n",
       "      <td>0.304105</td>\n",
       "      <td>0.161157</td>\n",
       "      <td>0.174139</td>\n",
       "      <td>-0.164802</td>\n",
       "      <td>0.085479</td>\n",
       "    </tr>\n",
       "    <tr>\n",
       "      <th>9</th>\n",
       "      <td>0.090400</td>\n",
       "      <td>0.380370</td>\n",
       "      <td>0.502571</td>\n",
       "      <td>0.026660</td>\n",
       "      <td>-0.128183</td>\n",
       "      <td>0.134424</td>\n",
       "    </tr>\n",
       "    <tr>\n",
       "      <th>10</th>\n",
       "      <td>0.495932</td>\n",
       "      <td>0.442593</td>\n",
       "      <td>0.052534</td>\n",
       "      <td>0.008941</td>\n",
       "      <td>-0.133952</td>\n",
       "      <td>0.061807</td>\n",
       "    </tr>\n",
       "    <tr>\n",
       "      <th>11</th>\n",
       "      <td>0.007108</td>\n",
       "      <td>0.445066</td>\n",
       "      <td>0.062649</td>\n",
       "      <td>0.485177</td>\n",
       "      <td>-0.259146</td>\n",
       "      <td>0.252709</td>\n",
       "    </tr>\n",
       "    <tr>\n",
       "      <th>12</th>\n",
       "      <td>0.431077</td>\n",
       "      <td>0.181541</td>\n",
       "      <td>0.347856</td>\n",
       "      <td>0.039526</td>\n",
       "      <td>-0.117250</td>\n",
       "      <td>0.082733</td>\n",
       "    </tr>\n",
       "    <tr>\n",
       "      <th>13</th>\n",
       "      <td>0.243799</td>\n",
       "      <td>0.210611</td>\n",
       "      <td>0.239437</td>\n",
       "      <td>0.306152</td>\n",
       "      <td>-0.190952</td>\n",
       "      <td>0.158334</td>\n",
       "    </tr>\n",
       "    <tr>\n",
       "      <th>14</th>\n",
       "      <td>0.088704</td>\n",
       "      <td>0.364276</td>\n",
       "      <td>0.437477</td>\n",
       "      <td>0.109543</td>\n",
       "      <td>-0.149426</td>\n",
       "      <td>0.131825</td>\n",
       "    </tr>\n",
       "    <tr>\n",
       "      <th>15</th>\n",
       "      <td>0.160510</td>\n",
       "      <td>0.458394</td>\n",
       "      <td>0.353733</td>\n",
       "      <td>0.027364</td>\n",
       "      <td>-0.136484</td>\n",
       "      <td>0.092186</td>\n",
       "    </tr>\n",
       "    <tr>\n",
       "      <th>16</th>\n",
       "      <td>0.269534</td>\n",
       "      <td>0.023661</td>\n",
       "      <td>0.274729</td>\n",
       "      <td>0.432075</td>\n",
       "      <td>-0.208421</td>\n",
       "      <td>0.262084</td>\n",
       "    </tr>\n",
       "    <tr>\n",
       "      <th>17</th>\n",
       "      <td>0.293527</td>\n",
       "      <td>0.204331</td>\n",
       "      <td>0.327687</td>\n",
       "      <td>0.174455</td>\n",
       "      <td>-0.154791</td>\n",
       "      <td>0.114361</td>\n",
       "    </tr>\n",
       "    <tr>\n",
       "      <th>18</th>\n",
       "      <td>0.212737</td>\n",
       "      <td>0.432555</td>\n",
       "      <td>0.007128</td>\n",
       "      <td>0.347580</td>\n",
       "      <td>-0.222643</td>\n",
       "      <td>0.146444</td>\n",
       "    </tr>\n",
       "    <tr>\n",
       "      <th>19</th>\n",
       "      <td>0.330222</td>\n",
       "      <td>0.251520</td>\n",
       "      <td>0.313966</td>\n",
       "      <td>0.104293</td>\n",
       "      <td>-0.140357</td>\n",
       "      <td>0.088884</td>\n",
       "    </tr>\n",
       "    <tr>\n",
       "      <th>20</th>\n",
       "      <td>0.164754</td>\n",
       "      <td>0.406791</td>\n",
       "      <td>0.376028</td>\n",
       "      <td>0.052427</td>\n",
       "      <td>-0.138609</td>\n",
       "      <td>0.098754</td>\n",
       "    </tr>\n",
       "    <tr>\n",
       "      <th>21</th>\n",
       "      <td>0.380728</td>\n",
       "      <td>0.171606</td>\n",
       "      <td>0.017370</td>\n",
       "      <td>0.430297</td>\n",
       "      <td>-0.223046</td>\n",
       "      <td>0.209016</td>\n",
       "    </tr>\n",
       "    <tr>\n",
       "      <th>22</th>\n",
       "      <td>0.314046</td>\n",
       "      <td>0.291428</td>\n",
       "      <td>0.162518</td>\n",
       "      <td>0.232008</td>\n",
       "      <td>-0.178959</td>\n",
       "      <td>0.106570</td>\n",
       "    </tr>\n",
       "    <tr>\n",
       "      <th>23</th>\n",
       "      <td>0.334289</td>\n",
       "      <td>0.289070</td>\n",
       "      <td>0.193309</td>\n",
       "      <td>0.183332</td>\n",
       "      <td>-0.165612</td>\n",
       "      <td>0.092248</td>\n",
       "    </tr>\n",
       "    <tr>\n",
       "      <th>24</th>\n",
       "      <td>0.290442</td>\n",
       "      <td>0.277939</td>\n",
       "      <td>0.237766</td>\n",
       "      <td>0.193854</td>\n",
       "      <td>-0.166941</td>\n",
       "      <td>0.103028</td>\n",
       "    </tr>\n",
       "  </tbody>\n",
       "</table>\n",
       "</div>"
      ],
      "text/plain": [
       "    BEML_weight  Glaxo_weight  Infy_weight  Unitech_weight  mean_return  \\\n",
       "0      0.205717      0.340896     0.353187        0.100200    -0.146077   \n",
       "1      0.432096      0.195084     0.244289        0.128531    -0.142969   \n",
       "2      0.297734      0.213214     0.063590        0.425463    -0.224606   \n",
       "3      0.087940      0.478755     0.031161        0.402144    -0.240446   \n",
       "4      0.033600      0.168960     0.664334        0.133105    -0.137038   \n",
       "5      0.281466      0.210838     0.269617        0.238079    -0.172727   \n",
       "6      0.297764      0.280931     0.270468        0.150838    -0.155494   \n",
       "7      0.269206      0.420921     0.286016        0.023857    -0.133325   \n",
       "8      0.360600      0.304105     0.161157        0.174139    -0.164802   \n",
       "9      0.090400      0.380370     0.502571        0.026660    -0.128183   \n",
       "10     0.495932      0.442593     0.052534        0.008941    -0.133952   \n",
       "11     0.007108      0.445066     0.062649        0.485177    -0.259146   \n",
       "12     0.431077      0.181541     0.347856        0.039526    -0.117250   \n",
       "13     0.243799      0.210611     0.239437        0.306152    -0.190952   \n",
       "14     0.088704      0.364276     0.437477        0.109543    -0.149426   \n",
       "15     0.160510      0.458394     0.353733        0.027364    -0.136484   \n",
       "16     0.269534      0.023661     0.274729        0.432075    -0.208421   \n",
       "17     0.293527      0.204331     0.327687        0.174455    -0.154791   \n",
       "18     0.212737      0.432555     0.007128        0.347580    -0.222643   \n",
       "19     0.330222      0.251520     0.313966        0.104293    -0.140357   \n",
       "20     0.164754      0.406791     0.376028        0.052427    -0.138609   \n",
       "21     0.380728      0.171606     0.017370        0.430297    -0.223046   \n",
       "22     0.314046      0.291428     0.162518        0.232008    -0.178959   \n",
       "23     0.334289      0.289070     0.193309        0.183332    -0.165612   \n",
       "24     0.290442      0.277939     0.237766        0.193854    -0.166941   \n",
       "\n",
       "    std_returns  \n",
       "0      0.099784  \n",
       "1      0.084516  \n",
       "2      0.206557  \n",
       "3      0.184003  \n",
       "4      0.231269  \n",
       "5      0.128619  \n",
       "6      0.093978  \n",
       "7      0.073958  \n",
       "8      0.085479  \n",
       "9      0.134424  \n",
       "10     0.061807  \n",
       "11     0.252709  \n",
       "12     0.082733  \n",
       "13     0.158334  \n",
       "14     0.131825  \n",
       "15     0.092186  \n",
       "16     0.262084  \n",
       "17     0.114361  \n",
       "18     0.146444  \n",
       "19     0.088884  \n",
       "20     0.098754  \n",
       "21     0.209016  \n",
       "22     0.106570  \n",
       "23     0.092248  \n",
       "24     0.103028  "
      ]
     },
     "execution_count": 405,
     "metadata": {},
     "output_type": "execute_result"
    }
   ],
   "source": [
    "columns = ['BEML_weight','Glaxo_weight', 'Infy_weight','Unitech_weight','mean_return', 'std_returns']\n",
    " \n",
    "portfolios_df = pd.DataFrame(data=results[0:,0:],columns=columns)\n",
    "\n",
    "portfolios_df"
   ]
  },
  {
   "cell_type": "markdown",
   "metadata": {},
   "source": [
    "## e) Plot the mean and variance of monthly returns of different portfolio combination on a scatter plot. Please explain your observations."
   ]
  },
  {
   "cell_type": "code",
   "execution_count": 410,
   "metadata": {},
   "outputs": [
    {
     "data": {
      "image/png": "[encoded data removed]",
      "text/plain": [
       "<Figure size 720x432 with 2 Axes>"
      ]
     },
     "metadata": {},
     "output_type": "display_data"
    }
   ],
   "source": [
    "#create scatter plot \n",
    "plt.scatter(portfolios_df.mean_return,portfolios_df.std_returns, marker=\"*\", c=portfolios_df.std_returns)\n",
    "plt.colorbar()\n",
    "plt.title(\"Mean Vs Variance\")\n",
    "plt.xlabel(\"Mean\")\n",
    "plt.ylabel(\"Variance\")\n",
    "plt.show()"
   ]
  },
  {
   "cell_type": "markdown",
   "metadata": {},
   "source": [
    "#### Observation: The 4 stocks over the period of  April 2014 to March 2018 have had negative growth. The portfolio containing just these 4 stocks will have on average a minor loss. But the volatality associated with them also means that there are chances for gains too. Variance and Mean have a strong negative correlation. If the person select the portfolios with lower average gain (higher loss), the volatality increases. But one exception is this portfolio ( BEML: 0.033600 | Glaxo: 0.168960 | Infy: 0.664334 | Unitech: 0.133105 | Mean: -0.137038 | Variance: 0.231269) which has high variance along with low average loss. "
   ]
  },
  {
   "cell_type": "code",
   "execution_count": null,
   "metadata": {},
   "outputs": [],
   "source": []
  }
 ],
 "metadata": {
  "kernelspec": {
   "display_name": "Python 3",
   "language": "python",
   "name": "python3"
  },
  "language_info": {
   "codemirror_mode": {
    "name": "ipython",
    "version": 3
   },
   "file_extension": ".py",
   "mimetype": "text/x-python",
   "name": "python",
   "nbconvert_exporter": "python",
   "pygments_lexer": "ipython3",
   "version": "3.6.5"
  }
 },
 "nbformat": 4,
 "nbformat_minor": 2
}
